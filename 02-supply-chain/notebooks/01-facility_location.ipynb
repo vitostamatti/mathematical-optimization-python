{
 "cells": [
  {
   "cell_type": "markdown",
   "metadata": {},
   "source": [
    "# Facility Location\n"
   ]
  },
  {
   "cell_type": "markdown",
   "metadata": {},
   "source": [
    "## Objective and Prerequisites\n",
    "\n",
    "Facility location problems can be commonly found in many industries, including logistics and telecommunications. In this example, we’ll show you how to tackle a facility location problem that involves determining the number and location of warehouses that are needed to supply a group of supermarkets.\n"
   ]
  },
  {
   "cell_type": "markdown",
   "metadata": {},
   "source": [
    "## Motivation\n",
    "\n",
    "The study of facility location problems - also known as \"location analysis\" [1] - is a branch of operations research and computational geometry concerned with the optimal placement of facilities to minimize transportation costs while considering factors like safety (e.g. by avoiding placing hazardous materials near housing) and the location of competitors' facilities.\n",
    "\n",
    "The Fermat-Weber problem, formulated in the 17'th century, was one of the first facility location problems ever devised.\n",
    "The Fermat-Weber problem can be described as follows: Given three points in a plane, find a fourth point such that the sum of its distances to the three given points is minimal. This problem can be viewed as a variation of the facility location problem, where the assumption is made that the transportation costs per distance are the same for all destinations.\n",
    "\n",
    "Facility location problems have applications in a wide variety of industries. For supply chain management and logistics, this problem can be used to find the optimal location for stores, factories, warehouses, etc. Other applications range from public policy (e.g. positioning police officers in a city), telecommunications (e.g. cell towers in a network), and even particle physics (e.g. separation distance between repulsive charges). Another application of the facility location problem is to determine the locations for natural gas transmission equipment. Finally, facility location problems can be applied to cluster analysis.\n"
   ]
  },
  {
   "cell_type": "markdown",
   "metadata": {},
   "source": [
    "## Problem Description\n",
    "\n",
    "A large supermarket chain in the UK needs to build warehouses for a set of supermarkets it is opening in Northern England. The locations of the supermarkets have been identified, but the locations of the warehouses have yet to be determined.\n",
    "\n",
    "Several good candidate locations for the warehouses have been identified, but decisions must be made regarding\n",
    "how many warehouses to open and at which candidate locations to build them.\n",
    "\n",
    "Opening many warehouses would be advantageous as this would reduce the average distance a truck has to drive from the warehouse to the supermarket, and hence reduce the delivery cost. However, opening a warehouse has a fixed cost associated with it.\n",
    "\n",
    "In this example, our goal is to find the optimal tradeoff between delivery costs and the costs of building new facilities.\n"
   ]
  },
  {
   "cell_type": "markdown",
   "metadata": {},
   "source": [
    "## Solution Approach\n",
    "\n",
    "Mathematical programming is a declarative approach where the modeler formulates a mathematical optimization model that captures the key aspects of a complex business problem.\n",
    "\n",
    "A mathematical optimization model has five components, namely:\n",
    "\n",
    "- Sets and indices.\n",
    "- Parameters.\n",
    "- Decision variables.\n",
    "- Objective function(s).\n",
    "- Constraints.\n",
    "\n",
    "We now present a MIP formulation for the facility location problem.\n"
   ]
  },
  {
   "cell_type": "markdown",
   "metadata": {},
   "source": [
    "## Model Formulation\n",
    "\n",
    "### Sets and Indices\n",
    "\n",
    "$i \\in I$: Index and set of supermarket (or customer) locations.\n",
    "\n",
    "$j \\in J$: Index and set of candidate warehouse (or facility) locations.\n",
    "\n",
    "### Parameters\n",
    "\n",
    "$f_{j} \\in \\mathbb{R}^+$: Fixed cost associated with constructing facility $j \\in J$.\n",
    "\n",
    "$d_{i,j} \\in \\mathbb{R}^+$: Distance between facility $j \\in J$ and customer $i \\in I$.\n",
    "\n",
    "$c_{i,j} \\in \\mathbb{R}^+$: Cost of shipping between candidate facility site $j \\in J$ and customer location $i \\in I$. We assume that this cost is proportional to the distance between the facility and the customer. That is, $c_{i,j} = \\alpha \\cdot d_{i,j}$, where $\\alpha$ is the cost per mile of driving, adjusted to incorporate the average number of trips a delivery truck would be expected to make over a five year period.\n",
    "\n",
    "### Decision Variables\n",
    "\n",
    "$select_{j} \\in \\{0, 1 \\}$: This variable is equal to 1 if we build a facility at candidate location $j \\in J$; and 0 otherwise.\n",
    "\n",
    "$0 \\leq assign_{i,j} \\leq 1$: This non-negative continuous variable determines the fraction of supply received by customer $i \\in I$ from facility $j \\in J$.\n",
    "\n",
    "### Objective Function\n",
    "\n",
    "- **Total costs**. We want to minimize the total cost to open and operate the facilities. This is the sum of the cost of opening facilities and the cost related to shipping between facilities and customers. This total cost measures the tradeoff between the cost of building a new facility and the total delivery cost over a five year period.\n",
    "\n",
    "\\begin{equation}\n",
    "\\text{Min} \\quad Z = \\sum_{j \\in J} f_{j} \\cdot select_{j} + \\sum_{j \\in J} \\sum_{i \\in I} c_{i,j} \\cdot assign_{i,j}\n",
    "\\tag{0}\n",
    "\\end{equation}\n",
    "\n",
    "### Constraints\n",
    "\n",
    "- **Demand**. For each customer $i \\in I$ ensure that its demand is fulfilled. That is, the sum of the fraction received from each facility for each customer must be equal to 1:\n",
    "\n",
    "\\begin{equation}\n",
    "\\sum_{j \\in J} assign_{i,j} = 1 \\quad \\forall i \\in I\n",
    "\\tag{1}\n",
    "\\end{equation}\n",
    "\n",
    "- **Shipping**. We need to ensure that we only ship from facility $j \\in J$, if that facility has actually been built.\n",
    "\n",
    "\\begin{equation}\n",
    "assign_{i,j} \\leq select_{j} \\quad \\forall i \\in I \\quad \\forall j \\in J\n",
    "\\tag{2}\n",
    "\\end{equation}\n"
   ]
  },
  {
   "cell_type": "markdown",
   "metadata": {},
   "source": [
    "## Python Implementation\n",
    "\n",
    "This example considers two supermarkets and nine warehouse candidates. The coordinates of each supermarket are provided in the following table.\n",
    "\n",
    "| <i></i>       | Coordinates |\n",
    "| ------------- | ----------- |\n",
    "| Supermarket 1 | (0,1.5)     |\n",
    "| Supermarket 2 | (2.5,1.2)   |\n",
    "\n",
    "The following table shows the coordinates of the candidate warehouse sites and the fixed cost of building the warehouse in millions of GBP.\n",
    "\n",
    "| <i></i>     | coordinates | fixed cost |\n",
    "| ----------- | ----------- | ---------- |\n",
    "| Warehouse 1 | (0,0)       | 3          |\n",
    "| Warehouse 2 | (0,1)       | 2          |\n",
    "| Warehouse 3 | (0,2)       | 3          |\n",
    "| Warehouse 4 | (1,0)       | 1          |\n",
    "| Warehouse 5 | (1,1)       | 3          |\n",
    "| Warehouse 6 | (1,2)       | 3          |\n",
    "| Warehouse 7 | (2,0)       | 4          |\n",
    "| Warehouse 8 | (2,1)       | 3          |\n",
    "| Warehouse 9 | (2,2)       | 2          |\n",
    "\n",
    "The cost per mile is one million GBP.\n",
    "\n",
    "## Python Implementation\n",
    "\n",
    "We now import the Gurobi Python Module and other Python libraries. Then, we initialize the data structures with the given data.\n"
   ]
  },
  {
   "cell_type": "code",
   "execution_count": 2,
   "metadata": {},
   "outputs": [],
   "source": [
    "from itertools import product\n",
    "from math import sqrt\n",
    "import pyomo.environ as pyo\n",
    "\n",
    "# Parameters\n",
    "customers = [(0, 1.5), (2.5, 1.2)]\n",
    "facilities = [(0, 0), (0, 1), (0, 2), (1, 0), (1, 1), (1, 2), (2, 0), (2, 1), (2, 2)]\n",
    "setup_cost = [3, 2, 3, 1, 3, 3, 4, 3, 2]\n",
    "cost_per_mile = 1"
   ]
  },
  {
   "cell_type": "markdown",
   "metadata": {},
   "source": [
    "### Preprocessing\n",
    "\n",
    "We define a function that determines the Euclidean distance between each facility and customer sites. In addition, we compute key parameters required by the MIP model formulation of the facility location problem.\n"
   ]
  },
  {
   "cell_type": "code",
   "execution_count": 20,
   "metadata": {},
   "outputs": [
    {
     "data": {
      "text/plain": [
       "1.5"
      ]
     },
     "execution_count": 20,
     "metadata": {},
     "output_type": "execute_result"
    }
   ],
   "source": [
    "# This function determines the Euclidean distance between a facility and customer sites.\n",
    "\n",
    "\n",
    "def compute_distance(loc1, loc2):\n",
    "    dx = loc1[0] - loc2[0]\n",
    "    dy = loc1[1] - loc2[1]\n",
    "    return sqrt(dx * dx + dy * dy)\n",
    "\n",
    "\n",
    "# Compute key parameters of MIP model formulation\n",
    "\n",
    "num_facilities = len(facilities)\n",
    "num_customers = len(customers)\n",
    "cartesian_prod = list(product(range(num_customers), range(num_facilities)))\n",
    "\n",
    "# Compute shipping costs\n",
    "\n",
    "shipping_cost = {\n",
    "    (c, f): cost_per_mile * compute_distance(customers[c], facilities[f])\n",
    "    for c, f in cartesian_prod\n",
    "}\n",
    "# shipping_cost = {}\n",
    "# for c, f in cartesian_prod:\n",
    "#     if c not in shipping_cost:\n",
    "#         shipping_cost[c] = {}\n",
    "#     shipping_cost[c][f] = cost_per_mile * compute_distance(customers[c], facilities[f])\n",
    "# # = {}\n",
    "shipping_cost[0, 0]"
   ]
  },
  {
   "cell_type": "markdown",
   "metadata": {},
   "source": [
    "### Model Deployment\n",
    "\n",
    "We now determine the MIP model for the facility location problem, by defining the decision variables, constraints, and objective function. Next, we start the optimization process and Gurobi finds the plan to build facilities that minimizes total costs.\n"
   ]
  },
  {
   "cell_type": "code",
   "execution_count": 26,
   "metadata": {
    "scrolled": true
   },
   "outputs": [],
   "source": [
    "# MIP  model formulation\n",
    "\n",
    "m = pyo.ConcreteModel(\"facility_location\")\n",
    "\n",
    "\n",
    "m.select = pyo.Var(list(range(num_facilities)), domain=pyo.Binary, name=\"Select\")\n",
    "\n",
    "m.assign = pyo.Var(\n",
    "    list(range(num_customers)),\n",
    "    list(range(num_facilities)),\n",
    "    bounds=(None, 1),\n",
    "    domain=pyo.NonNegativeReals,\n",
    "    name=\"Assign\",\n",
    ")\n",
    "\n",
    "m.setup_to_ship_constraints = pyo.ConstraintList()\n",
    "for c, f in cartesian_prod:\n",
    "    m.setup_to_ship_constraints.add(m.assign[c, f] <= m.select[f])\n",
    "\n",
    "\n",
    "m.demand_constraints = pyo.ConstraintList()\n",
    "for c in range(num_customers):\n",
    "    m.demand_constraints.add(sum(m.assign[c, f] for f in range(num_facilities)) == 1)\n",
    "\n",
    "\n",
    "def OBJ(m):\n",
    "    total_shipping_cost = pyo.sum_product(m.assign, shipping_cost, index=cartesian_prod)\n",
    "    total_setup_cost = pyo.sum_product(\n",
    "        m.select, setup_cost, index=range(num_facilities)\n",
    "    )\n",
    "    return total_setup_cost + total_shipping_cost\n",
    "\n",
    "\n",
    "m.OBJ = pyo.Objective(rule=OBJ, sense=pyo.minimize)"
   ]
  },
  {
   "cell_type": "code",
   "execution_count": 27,
   "metadata": {},
   "outputs": [
    {
     "name": "stdout",
     "output_type": "stream",
     "text": [
      "# ==========================================================\n",
      "# = Solver Results                                         =\n",
      "# ==========================================================\n",
      "# ----------------------------------------------------------\n",
      "#   Problem Information\n",
      "# ----------------------------------------------------------\n",
      "Problem: \n",
      "- Name: unknown\n",
      "  Lower bound: 4.72371291\n",
      "  Upper bound: 4.72371291\n",
      "  Number of objectives: 1\n",
      "  Number of constraints: 20\n",
      "  Number of variables: 27\n",
      "  Number of binary variables: 9\n",
      "  Number of integer variables: 9\n",
      "  Number of nonzeros: 27\n",
      "  Sense: minimize\n",
      "# ----------------------------------------------------------\n",
      "#   Solver Information\n",
      "# ----------------------------------------------------------\n",
      "Solver: \n",
      "- Status: ok\n",
      "  User time: -1.0\n",
      "  System time: 0.0\n",
      "  Wallclock time: 0.0\n",
      "  Termination condition: optimal\n",
      "  Termination message: Model was solved to optimality (subject to tolerances), and an optimal solution is available.\n",
      "  Statistics: \n",
      "    Branch and bound: \n",
      "      Number of bounded subproblems: 0\n",
      "      Number of created subproblems: 0\n",
      "    Black box: \n",
      "      Number of iterations: 0\n",
      "  Error rc: 0\n",
      "  Time: 0.02589893341064453\n",
      "# ----------------------------------------------------------\n",
      "#   Solution Information\n",
      "# ----------------------------------------------------------\n",
      "Solution: \n",
      "- number of solutions: 0\n",
      "  number of solutions displayed: 0\n"
     ]
    }
   ],
   "source": [
    "# solve\n",
    "pyo.SolverFactory(\"cbc\").solve(m).write()"
   ]
  },
  {
   "cell_type": "markdown",
   "metadata": {},
   "source": [
    "## Analysis\n",
    "\n",
    "The result of the optimization model shows that the minimum total cost value is 4.72 million GBP. Let's see the solution that achieves that optimal result.\n",
    "\n",
    "### Warehouse Build Plan\n",
    "\n",
    "This plan determines at which site locations to build a warehouse.\n"
   ]
  },
  {
   "cell_type": "code",
   "execution_count": 28,
   "metadata": {},
   "outputs": [
    {
     "name": "stdout",
     "output_type": "stream",
     "text": [
      "\n",
      " Build a warehouse at location 4.\n"
     ]
    }
   ],
   "source": [
    "# display optimal values of decision variables\n",
    "\n",
    "for facility in m.select.keys():\n",
    "    if abs(m.select[facility].value) > 1e-6:\n",
    "        print(f\"\\n Build a warehouse at location {facility + 1}.\")"
   ]
  },
  {
   "cell_type": "markdown",
   "metadata": {},
   "source": [
    "### Shipment Plan\n",
    "\n",
    "This plan determines the percentage of shipments to be sent from each facility built to each customer.\n"
   ]
  },
  {
   "cell_type": "code",
   "execution_count": 29,
   "metadata": {},
   "outputs": [
    {
     "name": "stdout",
     "output_type": "stream",
     "text": [
      "\n",
      " Supermarket 1 receives 100.0 % of its demand  from Warehouse 4 .\n",
      "\n",
      " Supermarket 2 receives 100.0 % of its demand  from Warehouse 4 .\n"
     ]
    }
   ],
   "source": [
    "# Shipments from facilities to customers.\n",
    "\n",
    "for customer, facility in m.assign.keys():\n",
    "    if abs(m.assign[customer, facility].value) > 1e-6:\n",
    "        print(\n",
    "            f\"\\n Supermarket {customer + 1} receives {round(100*m.assign[customer, facility].value, 2)} % of its demand  from Warehouse {facility + 1} .\"\n",
    "        )"
   ]
  },
  {
   "cell_type": "markdown",
   "metadata": {},
   "source": [
    "## Conclusion\n",
    "\n",
    "In this example, we addressed a facility location problem where we want to build warehouses to supply a large number of supermarkets while minimizing the fixed total costs of building warehouses and the total variable shipping costs from warehouses to supermarkets. We learned how to formulate the problem as a MIP model.\n"
   ]
  },
  {
   "cell_type": "markdown",
   "metadata": {},
   "source": [
    "## References\n",
    "\n",
    "[1] Laporte, Gilbert, Stefan Nickel, and Saldanha da Gama, Francisco. Location Science. Springer, 2015.\n"
   ]
  }
 ],
 "metadata": {
  "kernelspec": {
   "display_name": "Python 3",
   "language": "python",
   "name": "python3"
  },
  "language_info": {
   "codemirror_mode": {
    "name": "ipython",
    "version": 3
   },
   "file_extension": ".py",
   "mimetype": "text/x-python",
   "name": "python",
   "nbconvert_exporter": "python",
   "pygments_lexer": "ipython3",
   "version": "3.9.13"
  }
 },
 "nbformat": 4,
 "nbformat_minor": 2
}
